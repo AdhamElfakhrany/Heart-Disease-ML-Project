{
 "cells": [
  {
   "cell_type": "code",
   "execution_count": 2,
   "id": "fcce4c9c",
   "metadata": {},
   "outputs": [
    {
     "name": "stdout",
     "output_type": "stream",
     "text": [
      "Feature Selection Methods:\n",
      "1. Random Forest Feature Importance\n",
      "2. Recursive Feature Elimination (RFE)\n",
      "3. Chi-Square Test\n"
     ]
    }
   ],
   "source": [
    "# Feature Selection\n",
    "import pandas as pd\n",
    "import numpy as np\n",
    "import matplotlib.pyplot as plt\n",
    "from sklearn.feature_selection import RFE, chi2, SelectKBest, f_classif\n",
    "from sklearn.ensemble import RandomForestClassifier\n",
    "from sklearn.model_selection import train_test_split\n",
    "\n",
    "# Load cleaned dataset\n",
    "df = pd.read_csv('../results/cleaned_dataset.csv')\n",
    "\n",
    "# Separate features and target\n",
    "X = df.drop('target', axis=1)\n",
    "y = df['target']\n",
    "print(\"Feature Selection Methods:\")\n",
    "print(\"1. Random Forest Feature Importance\")\n",
    "print(\"2. Recursive Feature Elimination (RFE)\")\n",
    "print(\"3. Chi-Square Test\")"
   ]
  },
  {
   "cell_type": "code",
   "execution_count": 3,
   "id": "be9c6fc0",
   "metadata": {},
   "outputs": [
    {
     "name": "stdout",
     "output_type": "stream",
     "text": [
      "\n",
      "Feature Importance (Random Forest):\n",
      "     feature  importance\n",
      "7    thalach    0.128958\n",
      "2         cp    0.128565\n",
      "12      thal    0.115899\n",
      "9    oldpeak    0.111194\n",
      "11        ca    0.105716\n",
      "0        age    0.088415\n",
      "4       chol    0.076707\n",
      "3   trestbps    0.073438\n",
      "8      exang    0.058126\n",
      "10     slope    0.054683\n",
      "1        sex    0.030894\n",
      "6    restecg    0.019554\n",
      "5        fbs    0.007851\n"
     ]
    }
   ],
   "source": [
    "# Method 1: Random Forest Feature Importance\n",
    "rf = RandomForestClassifier(n_estimators=100, random_state=42)\n",
    "rf.fit(X, y)\n",
    "\n",
    "feature_importance = pd.DataFrame({\n",
    "    'feature': X.columns,\n",
    "    'importance': rf.feature_importances_\n",
    "}).sort_values('importance', ascending=False)\n",
    "\n",
    "print(f\"\\nFeature Importance (Random Forest):\")\n",
    "print(feature_importance)"
   ]
  },
  {
   "cell_type": "code",
   "execution_count": 4,
   "id": "a3fc4899",
   "metadata": {},
   "outputs": [
    {
     "name": "stdout",
     "output_type": "stream",
     "text": [
      "\n",
      "RFE Selected Features:\n",
      "     feature  selected  ranking\n",
      "0        age      True        1\n",
      "2         cp      True        1\n",
      "3   trestbps      True        1\n",
      "4       chol      True        1\n",
      "7    thalach      True        1\n",
      "12      thal      True        1\n",
      "11        ca      True        1\n",
      "9    oldpeak      True        1\n"
     ]
    }
   ],
   "source": [
    "# Method 2: Recursive Feature Elimination\n",
    "rfe = RFE(estimator=RandomForestClassifier(random_state=42), n_features_to_select=8)\n",
    "rfe.fit(X, y)\n",
    "\n",
    "rfe_features = pd.DataFrame({\n",
    "    'feature': X.columns,\n",
    "    'selected': rfe.support_,\n",
    "    'ranking': rfe.ranking_\n",
    "}).sort_values('ranking')\n",
    "\n",
    "print(f\"\\nRFE Selected Features:\")\n",
    "print(rfe_features[rfe_features['selected']])\n"
   ]
  },
  {
   "cell_type": "code",
   "execution_count": 5,
   "id": "33939dc8",
   "metadata": {},
   "outputs": [
    {
     "name": "stdout",
     "output_type": "stream",
     "text": [
      "\n",
      "F-Score Rankings:\n",
      "     feature     f_score\n",
      "12      thal  108.663087\n",
      "8      exang   70.952438\n",
      "9    oldpeak   68.551439\n",
      "2         cp   67.009020\n",
      "7    thalach   65.120104\n",
      "11        ca   54.559834\n",
      "10     slope   40.902071\n",
      "1        sex   25.792191\n",
      "0        age   16.116700\n",
      "3   trestbps    6.458169\n",
      "6    restecg    5.777209\n",
      "4       chol    2.202983\n",
      "5        fbs    0.236942\n"
     ]
    }
   ],
   "source": [
    "# Method 3: Statistical Tests (F-score for classification)\n",
    "f_selector = SelectKBest(score_func=f_classif, k=8)\n",
    "f_selector.fit(X, y)\n",
    "\n",
    "f_scores = pd.DataFrame({\n",
    "    'feature': X.columns,\n",
    "    'f_score': f_selector.scores_\n",
    "}).sort_values('f_score', ascending=False)\n",
    "\n",
    "print(f\"\\nF-Score Rankings:\")\n",
    "print(f_scores)"
   ]
  },
  {
   "cell_type": "code",
   "execution_count": 6,
   "id": "e988aed5",
   "metadata": {},
   "outputs": [
    {
     "data": {
      "text/plain": [
       "<Figure size 1500x1000 with 0 Axes>"
      ]
     },
     "execution_count": 6,
     "metadata": {},
     "output_type": "execute_result"
    },
    {
     "data": {
      "text/plain": [
       "<Figure size 1500x1000 with 0 Axes>"
      ]
     },
     "metadata": {},
     "output_type": "display_data"
    }
   ],
   "source": [
    "# Visualize feature importance\n",
    "plt.figure(figsize=(15, 10))"
   ]
  },
  {
   "cell_type": "code",
   "execution_count": 7,
   "id": "3550f406",
   "metadata": {},
   "outputs": [
    {
     "data": {
      "text/plain": [
       "Text(0.5, 0, 'Importance Score')"
      ]
     },
     "execution_count": 7,
     "metadata": {},
     "output_type": "execute_result"
    },
    {
     "data": {
      "image/png": "[encoded data removed]",
      "text/plain": [
       "<Figure size 640x480 with 1 Axes>"
      ]
     },
     "metadata": {},
     "output_type": "display_data"
    }
   ],
   "source": [
    "# 1. Random Forest Feature Importance\n",
    "plt.subplot(2, 2, 1)\n",
    "top_features = feature_importance.head(10)\n",
    "plt.barh(top_features['feature'], top_features['importance'])\n",
    "plt.title('Random Forest Feature Importance')\n",
    "plt.xlabel('Importance Score')\n"
   ]
  },
  {
   "cell_type": "code",
   "execution_count": 8,
   "id": "8c4c4b88",
   "metadata": {},
   "outputs": [
    {
     "data": {
      "text/plain": [
       "Text(0.5, 0, 'F-Score')"
      ]
     },
     "execution_count": 8,
     "metadata": {},
     "output_type": "execute_result"
    },
    {
     "data": {
      "image/png": "[encoded data removed]",
      "text/plain": [
       "<Figure size 640x480 with 1 Axes>"
      ]
     },
     "metadata": {},
     "output_type": "display_data"
    }
   ],
   "source": [
    "\n",
    "# 2. F-Score Rankings\n",
    "plt.subplot(2, 2, 2)\n",
    "top_f_features = f_scores.head(10)\n",
    "plt.barh(top_f_features['feature'], top_f_features['f_score'])\n",
    "plt.title('F-Score Feature Rankings')\n",
    "plt.xlabel('F-Score')"
   ]
  },
  {
   "cell_type": "code",
   "execution_count": 9,
   "id": "55153f73",
   "metadata": {},
   "outputs": [
    {
     "data": {
      "image/png": "[encoded data removed]",
      "text/plain": [
       "<Figure size 640x480 with 1 Axes>"
      ]
     },
     "metadata": {},
     "output_type": "display_data"
    }
   ],
   "source": [
    "# 3. Feature comparison heatmap\n",
    "plt.subplot(2, 2, 3)\n",
    "# Combine all methods\n",
    "comparison_df = pd.DataFrame({\n",
    "    'RF_Importance': feature_importance.set_index('feature')['importance'],\n",
    "    'F_Score': f_scores.set_index('feature')['f_score']\n",
    "}).fillna(0)"
   ]
  },
  {
   "cell_type": "code",
   "execution_count": 10,
   "id": "91dbd997",
   "metadata": {},
   "outputs": [
    {
     "data": {
      "image/png": "[encoded data removed]",
      "text/plain": [
       "<Figure size 640x480 with 1 Axes>"
      ]
     },
     "metadata": {},
     "output_type": "display_data"
    }
   ],
   "source": [
    "# Normalize scores for comparison\n",
    "comparison_df['RF_Importance'] = (comparison_df['RF_Importance'] - comparison_df['RF_Importance'].min()) / (comparison_df['RF_Importance'].max() - comparison_df['RF_Importance'].min())\n",
    "comparison_df['F_Score'] = (comparison_df['F_Score'] - comparison_df['F_Score'].min()) / (comparison_df['F_Score'].max() - comparison_df['F_Score'].min())\n",
    "\n",
    "plt.imshow(comparison_df.T, aspect='auto', cmap='viridis')\n",
    "plt.yticks(range(len(comparison_df.columns)), comparison_df.columns)\n",
    "plt.xticks(range(len(comparison_df.index)), comparison_df.index, rotation=45)\n",
    "plt.title('Feature Selection Methods Comparison')\n",
    "\n",
    "plt.tight_layout()\n",
    "plt.show()"
   ]
  },
  {
   "cell_type": "code",
   "execution_count": 11,
   "id": "d4087b91",
   "metadata": {},
   "outputs": [],
   "source": [
    "\n",
    "# Select top features (intersection of methods)\n",
    "top_rf_features = set(feature_importance.head(8)['feature'].tolist())\n",
    "top_rfe_features = set(rfe_features[rfe_features['selected']]['feature'].tolist())\n",
    "top_f_features = set(f_scores.head(8)['feature'].tolist())\n"
   ]
  },
  {
   "cell_type": "code",
   "execution_count": 12,
   "id": "19afbc43",
   "metadata": {},
   "outputs": [
    {
     "name": "stdout",
     "output_type": "stream",
     "text": [
      "\n",
      "Final Selected Features (appearing in ≥2 methods): ['age', 'cp', 'trestbps', 'chol', 'thalach', 'oldpeak', 'ca', 'thal']\n"
     ]
    }
   ],
   "source": [
    "# Get features that appear in at least 2 methods\n",
    "selected_features = []\n",
    "all_features = X.columns\n",
    "for feature in all_features:\n",
    "    count = sum([feature in top_rf_features, feature in top_rfe_features, feature in top_f_features])\n",
    "    if count >= 2:\n",
    "        selected_features.append(feature)\n",
    "\n",
    "print(f\"\\nFinal Selected Features (appearing in ≥2 methods): {selected_features}\")\n"
   ]
  },
  {
   "cell_type": "code",
   "execution_count": 13,
   "id": "0faf2194",
   "metadata": {},
   "outputs": [
    {
     "name": "stdout",
     "output_type": "stream",
     "text": [
      "Original features: 13\n",
      "Selected features: 8\n"
     ]
    }
   ],
   "source": [
    "# Create reduced dataset\n",
    "X_selected = X[selected_features]\n",
    "reduced_df = X_selected.copy()\n",
    "reduced_df['target'] = y\n",
    "\n",
    "print(f\"Original features: {X.shape[1]}\")\n",
    "print(f\"Selected features: {X_selected.shape[1]}\")\n"
   ]
  },
  {
   "cell_type": "code",
   "execution_count": 14,
   "id": "b129aba2",
   "metadata": {},
   "outputs": [
    {
     "name": "stdout",
     "output_type": "stream",
     "text": [
      "✔️ Reduced dataset with selected features saved\n",
      "✔️ Feature importance ranking visualization created\n"
     ]
    }
   ],
   "source": [
    "# Save reduced dataset\n",
    "reduced_df.to_csv('../results/selected_features_dataset.csv', index=False)\n",
    "\n",
    "print(\"✔️ Reduced dataset with selected features saved\")\n",
    "print(\"✔️ Feature importance ranking visualization created\")"
   ]
  }
 ],
 "metadata": {
  "kernelspec": {
   "display_name": "Python 3",
   "language": "python",
   "name": "python3"
  },
  "language_info": {
   "codemirror_mode": {
    "name": "ipython",
    "version": 3
   },
   "file_extension": ".py",
   "mimetype": "text/x-python",
   "name": "python",
   "nbconvert_exporter": "python",
   "pygments_lexer": "ipython3",
   "version": "3.13.5"
  }
 },
 "nbformat": 4,
 "nbformat_minor": 5
}
